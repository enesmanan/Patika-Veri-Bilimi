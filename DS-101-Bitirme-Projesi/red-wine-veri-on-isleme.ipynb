{
 "cells": [
  {
   "cell_type": "markdown",
   "id": "ad1eb15a-508d-45e0-99ee-d94ea6657373",
   "metadata": {},
   "source": [
    "### RED WINE QUALITY DATA PREPROCESSING 🍷\n",
    "\n",
    "Bu notebookta veri ön işleme (data preprocessing) yaparak aykırı gözlem ve eksik veri gibi makine öğrenmesi modelimizin performansını kötü yönde etkileyebilecek olan sorunları çözmeye çalışacağız. Amacımız veri setini dengeli bir hale getirip makine öğrenmesi modellerinin rahat işlem yapabilir olmasını sağlamak."
   ]
  },
  {
   "cell_type": "code",
   "execution_count": 1,
   "id": "913e8cbd-b85c-4e71-93b0-f5b3cc638eda",
   "metadata": {},
   "outputs": [],
   "source": [
    "# gerekli kütüphaneler\n",
    "import numpy as np  # sayısal işlemler \n",
    "import pandas as pd  # veri manipülasyonu \n",
    "import seaborn as sns  # görselleştirme\n",
    "import matplotlib.pyplot as plt  # görselleştirme\n",
    "\n",
    "# görsel çıktılardaki uyarı mesajları için\n",
    "import warnings \n",
    "warnings.filterwarnings(\"ignore\")"
   ]
  },
  {
   "cell_type": "code",
   "execution_count": 2,
   "id": "64989131-3d5a-4ea7-8581-7ddb524ef412",
   "metadata": {},
   "outputs": [],
   "source": [
    "# verinin wine değişkenine yüklenmesi\n",
    "wine = pd.read_csv('winequality-red.csv')"
   ]
  },
  {
   "cell_type": "code",
   "execution_count": 3,
   "id": "af8aa366-17e7-4cd4-b02b-2312d51b900e",
   "metadata": {},
   "outputs": [],
   "source": [
    "df = wine.copy()"
   ]
  },
  {
   "cell_type": "markdown",
   "id": "20ad7c72-2093-49d3-bd50-7f76705a7b63",
   "metadata": {},
   "source": [
    "## Veri Temizleme (Data Cleaning)\n",
    "+ Gürültülü Veri (Noisy Data) $\\to$ yanlış/bozuk veriler\n",
    "+ Eksik Veri Analizi (Missing Data Analysis) \n",
    "+ Aykırı Değer Analizi (Outlier Analysis)"
   ]
  },
  {
   "cell_type": "markdown",
   "id": "5645db9b-3fbe-4282-9acb-108d79082931",
   "metadata": {},
   "source": [
    "### Aykırı Değer Analizi\n",
    "Aykırı gözlem, veride normalin önemli ölçüde dışında olan nadir noktalara denir. \n",
    "\n",
    "Aykırı gözlemler, \n",
    "+ Verilerin dağılımını ve betimsel istatistiklerini etkilerler.\n",
    "+ Makine öğrenmesi modellerinin sonuçlarına olumsuz yönde etki edebilirler.\n",
    "+ İstatistiksel testlerin gücünü azaltabilirler.\n",
    "\n",
    "#### Aykırı Gözlemlerin Tanımlanması\n",
    "> #### IQR Metodu"
   ]
  },
  {
   "cell_type": "markdown",
   "id": "8ae542aa-039f-4c8a-b795-af5e93cff53f",
   "metadata": {},
   "source": [
    "<img src=\"https://miro.medium.com/v2/resize:fit:1400/0*Rpd3tQj-kUpwObeA\" width=\"700\" height=\"300\">\n"
   ]
  },
  {
   "cell_type": "code",
   "execution_count": 4,
   "id": "9edcffef-9e24-46b2-919a-721b3b2f12f0",
   "metadata": {},
   "outputs": [],
   "source": [
    "df_fixed_acidity = df['fixed acidity']"
   ]
  },
  {
   "cell_type": "code",
   "execution_count": 5,
   "id": "147e5da5-c245-41a0-aaed-bf921a3159ef",
   "metadata": {},
   "outputs": [
    {
     "data": {
      "text/plain": [
       "0     7.4\n",
       "1     7.8\n",
       "2     7.8\n",
       "3    11.2\n",
       "4     7.4\n",
       "Name: fixed acidity, dtype: float64"
      ]
     },
     "execution_count": 5,
     "metadata": {},
     "output_type": "execute_result"
    }
   ],
   "source": [
    "df_fixed_acidity.head()"
   ]
  },
  {
   "cell_type": "code",
   "execution_count": 6,
   "id": "3890a465-b04e-40cd-b6b6-5914f68547c8",
   "metadata": {},
   "outputs": [
    {
     "data": {
      "text/plain": [
       "<Axes: xlabel='fixed acidity'>"
      ]
     },
     "execution_count": 6,
     "metadata": {},
     "output_type": "execute_result"
    },
    {
     "data": {
      "image/png": "[encoded data removed]",
      "text/plain": [
       "<Figure size 640x480 with 1 Axes>"
      ]
     },
     "metadata": {},
     "output_type": "display_data"
    }
   ],
   "source": [
    "sns.boxplot(x = df_fixed_acidity)"
   ]
  },
  {
   "cell_type": "code",
   "execution_count": 7,
   "id": "9b4a56b2-313d-40d5-92f4-0f5321ef6116",
   "metadata": {},
   "outputs": [],
   "source": [
    "# sınır değer belirleme, eşik değer belirleme\n",
    "Q1 = df_fixed_acidity.quantile(0.25)\n",
    "Q3 = df_fixed_acidity.quantile(0.75)\n",
    "IQR = Q3 - Q1"
   ]
  },
  {
   "cell_type": "code",
   "execution_count": 8,
   "id": "d23d1e51-546a-4d31-ad62-7b334207b4a8",
   "metadata": {},
   "outputs": [
    {
     "name": "stdout",
     "output_type": "stream",
     "text": [
      "7.1 9.2 2.0999999999999996\n"
     ]
    }
   ],
   "source": [
    "print(Q1, Q3, IQR)"
   ]
  },
  {
   "cell_type": "code",
   "execution_count": 9,
   "id": "48e3fe00-544a-4b14-92a6-bd99486e8c59",
   "metadata": {},
   "outputs": [],
   "source": [
    "alt_sinir = Q1 - 1.5 * IQR\n",
    "ust_sinir = Q3 + 1.5 * IQR"
   ]
  },
  {
   "cell_type": "code",
   "execution_count": 10,
   "id": "233ee600-dc59-47ad-8b5f-c04374be0d12",
   "metadata": {},
   "outputs": [
    {
     "name": "stdout",
     "output_type": "stream",
     "text": [
      "3.95 12.349999999999998\n"
     ]
    }
   ],
   "source": [
    "print(alt_sinir, ust_sinir)"
   ]
  },
  {
   "cell_type": "code",
   "execution_count": 13,
   "id": "db1223fd-eb29-43bd-82d9-5403f69116d0",
   "metadata": {},
   "outputs": [
    {
     "data": {
      "text/plain": [
       "0       False\n",
       "1       False\n",
       "2       False\n",
       "3       False\n",
       "4       False\n",
       "        ...  \n",
       "1594    False\n",
       "1595    False\n",
       "1596    False\n",
       "1597    False\n",
       "1598    False\n",
       "Name: fixed acidity, Length: 1599, dtype: bool"
      ]
     },
     "execution_count": 13,
     "metadata": {},
     "output_type": "execute_result"
    }
   ],
   "source": [
    "(df_fixed_acidity < alt_sinir)  | (df_fixed_acidity > ust_sinir)"
   ]
  },
  {
   "cell_type": "code",
   "execution_count": 16,
   "id": "f926fbba-6750-43bc-8313-1f8cd8bd0774",
   "metadata": {},
   "outputs": [
    {
     "data": {
      "text/plain": [
       "0    False\n",
       "1    False\n",
       "2    False\n",
       "3    False\n",
       "4    False\n",
       "Name: fixed acidity, dtype: bool"
      ]
     },
     "execution_count": 16,
     "metadata": {},
     "output_type": "execute_result"
    }
   ],
   "source": [
    "aykiri_tf = (df_fixed_acidity < alt_sinir)\n",
    "aykiri_tf.head()"
   ]
  },
  {
   "cell_type": "code",
   "execution_count": 23,
   "id": "be702189-8cf2-46f8-8d9d-3db7616f6c7f",
   "metadata": {},
   "outputs": [
    {
     "data": {
      "text/plain": [
       "array([], dtype=float64)"
      ]
     },
     "execution_count": 23,
     "metadata": {},
     "output_type": "execute_result"
    }
   ],
   "source": [
    "df_fixed_acidity[aykiri_tf].values"
   ]
  },
  {
   "cell_type": "markdown",
   "id": "8480e005-6a41-4772-b0d7-a1be14929eb9",
   "metadata": {},
   "source": []
  },
  {
   "cell_type": "code",
   "execution_count": null,
   "id": "4bb74d57-b702-4f96-8a51-22eee1516677",
   "metadata": {},
   "outputs": [],
   "source": []
  },
  {
   "cell_type": "code",
   "execution_count": null,
   "id": "50e78f15-0de4-4711-8f2b-f581ab68058d",
   "metadata": {},
   "outputs": [],
   "source": []
  },
  {
   "cell_type": "code",
   "execution_count": null,
   "id": "392cfb8a-2b7b-49ec-bfed-919873cb7f7e",
   "metadata": {},
   "outputs": [],
   "source": []
  }
 ],
 "metadata": {
  "kernelspec": {
   "display_name": "Python 3 (ipykernel)",
   "language": "python",
   "name": "python3"
  },
  "language_info": {
   "codemirror_mode": {
    "name": "ipython",
    "version": 3
   },
   "file_extension": ".py",
   "mimetype": "text/x-python",
   "name": "python",
   "nbconvert_exporter": "python",
   "pygments_lexer": "ipython3",
   "version": "3.9.16"
  }
 },
 "nbformat": 4,
 "nbformat_minor": 5
}
