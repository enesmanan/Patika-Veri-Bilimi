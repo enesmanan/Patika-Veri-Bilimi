{
 "cells": [
  {
   "cell_type": "markdown",
   "id": "75747db2-c13e-4ca5-ac19-163634ecdf7d",
   "metadata": {},
   "source": [
    "## RED WINE QUALITY CLASSIFICATION 🍷\n",
    "Bu notebookta sınıflandırma (classification) yaparak, kırmızı şarapların kalitesini tahmin etmeye çalışacağız. Veri setinde düşük (3-4), orta (5-6) ve yüksek (7-8) olarak farklı kalitelerde şaraplar bulunuyor. Amacımız, veri setindeki özellikleri kullanarak, şarapların kalite puanlarını doğru bir şekilde sınıflandırmak olacaktır."
   ]
  },
  {
   "cell_type": "code",
   "execution_count": 1,
   "id": "84f8bc71-c56a-498d-88ce-1fde0b74a4f1",
   "metadata": {},
   "outputs": [],
   "source": [
    "# gerekli kütüphaneler\n",
    "import numpy as np  # sayısal işlemler \n",
    "import pandas as pd  # veri manipülasyonu \n",
    "import seaborn as sns  # görselleştirme\n",
    "import matplotlib.pyplot as plt  # görselleştirme\n",
    "\n",
    "# görsel çıktılardaki uyarı mesajları için\n",
    "import warnings \n",
    "warnings.filterwarnings('ignore')\n",
    "\n",
    "# modellerin basarisini degerlendirmek icin\n",
    "from sklearn.metrics import accuracy_score\n",
    "from sklearn.metrics import confusion_matrix\n",
    "\n",
    "# train ve test olarak bölmek için\n",
    "from sklearn.model_selection import train_test_split"
   ]
  },
  {
   "cell_type": "code",
   "execution_count": 2,
   "id": "d90838e9-fb17-4a74-ad5c-959fd22433ed",
   "metadata": {},
   "outputs": [],
   "source": [
    "# temizlenmiş verinin wine değişkenine yüklenmesi\n",
    "wine = pd.read_csv('redwine-clean.csv', index_col=0)\n",
    "df = wine.copy()"
   ]
  },
  {
   "cell_type": "code",
   "execution_count": 3,
   "id": "a95df554-7beb-4689-835d-96e726d83487",
   "metadata": {},
   "outputs": [],
   "source": [
    "# Modellerin olası bir hata vermesini önlemek için sütun isimlerindeki boşukları _ ile dolduruyoruz.\n",
    "df.rename(columns = {'fixed acidity': 'fixed_acidity', 'volatile acidity': 'volatile_acidity',\n",
    "                    'citric acid': 'citric_acid', 'residual sugar': 'residual_sugar',\n",
    "                    'chlorides': 'chlorides', 'free sulfur dioxide': 'free_sulfur_dioxide',\n",
    "                    'total sulfur dioxide': 'total_sulfur_dioxide'}, inplace = True)"
   ]
  },
  {
   "cell_type": "code",
   "execution_count": 4,
   "id": "c94853ae-a581-4735-bea0-bc6d58936a03",
   "metadata": {},
   "outputs": [],
   "source": [
    "# xgboost gibi bazı algoritmalar hedef değişkenin değerlerinin 0,1,2... \n",
    "# gibi olmasını ister dolayısıyla ona göre düzenleme yapıyoruz\n",
    "df['quality'] = df['quality'].map({'yuksek': 2, 'orta': 1, 'zayif': 0})"
   ]
  },
  {
   "cell_type": "code",
   "execution_count": 5,
   "id": "3421a12c-af06-4bf5-8d2b-374c1f098324",
   "metadata": {},
   "outputs": [],
   "source": [
    "# bağımlı ve bağımsız değişkenlerimizi belirliyoruz\n",
    "y = df['quality']                    # bağımlı değişken\n",
    "x = df.drop(['quality'], axis=1)     # bağımsız değişkenler"
   ]
  },
  {
   "cell_type": "code",
   "execution_count": 6,
   "id": "e97c088e-1ab8-443f-a850-9edac785259d",
   "metadata": {},
   "outputs": [
    {
     "data": {
      "text/html": [
       "<div>\n",
       "<style scoped>\n",
       "    .dataframe tbody tr th:only-of-type {\n",
       "        vertical-align: middle;\n",
       "    }\n",
       "\n",
       "    .dataframe tbody tr th {\n",
       "        vertical-align: top;\n",
       "    }\n",
       "\n",
       "    .dataframe thead th {\n",
       "        text-align: right;\n",
       "    }\n",
       "</style>\n",
       "<table border=\"1\" class=\"dataframe\">\n",
       "  <thead>\n",
       "    <tr style=\"text-align: right;\">\n",
       "      <th></th>\n",
       "      <th>fixed_acidity</th>\n",
       "      <th>volatile_acidity</th>\n",
       "      <th>citric_acid</th>\n",
       "      <th>residual_sugar</th>\n",
       "      <th>chlorides</th>\n",
       "      <th>free_sulfur_dioxide</th>\n",
       "      <th>total_sulfur_dioxide</th>\n",
       "      <th>density</th>\n",
       "      <th>pH</th>\n",
       "      <th>sulphates</th>\n",
       "      <th>alcohol</th>\n",
       "    </tr>\n",
       "  </thead>\n",
       "  <tbody>\n",
       "    <tr>\n",
       "      <th>0</th>\n",
       "      <td>7.4</td>\n",
       "      <td>0.70</td>\n",
       "      <td>0.0</td>\n",
       "      <td>1.9</td>\n",
       "      <td>0.076</td>\n",
       "      <td>11.0</td>\n",
       "      <td>34.0</td>\n",
       "      <td>0.9978</td>\n",
       "      <td>3.51</td>\n",
       "      <td>0.56</td>\n",
       "      <td>9.4</td>\n",
       "    </tr>\n",
       "    <tr>\n",
       "      <th>1</th>\n",
       "      <td>7.8</td>\n",
       "      <td>0.88</td>\n",
       "      <td>0.0</td>\n",
       "      <td>2.6</td>\n",
       "      <td>0.098</td>\n",
       "      <td>25.0</td>\n",
       "      <td>67.0</td>\n",
       "      <td>0.9968</td>\n",
       "      <td>3.20</td>\n",
       "      <td>0.68</td>\n",
       "      <td>9.8</td>\n",
       "    </tr>\n",
       "  </tbody>\n",
       "</table>\n",
       "</div>"
      ],
      "text/plain": [
       "   fixed_acidity  volatile_acidity  citric_acid  residual_sugar  chlorides  \\\n",
       "0            7.4              0.70          0.0             1.9      0.076   \n",
       "1            7.8              0.88          0.0             2.6      0.098   \n",
       "\n",
       "   free_sulfur_dioxide  total_sulfur_dioxide  density    pH  sulphates  \\\n",
       "0                 11.0                  34.0   0.9978  3.51       0.56   \n",
       "1                 25.0                  67.0   0.9968  3.20       0.68   \n",
       "\n",
       "   alcohol  \n",
       "0      9.4  \n",
       "1      9.8  "
      ]
     },
     "execution_count": 6,
     "metadata": {},
     "output_type": "execute_result"
    }
   ],
   "source": [
    "x.head(2)"
   ]
  },
  {
   "cell_type": "code",
   "execution_count": 7,
   "id": "9efdafac-0954-467a-bd28-3572da166603",
   "metadata": {},
   "outputs": [
    {
     "data": {
      "text/plain": [
       "0    1\n",
       "1    1\n",
       "Name: quality, dtype: int64"
      ]
     },
     "execution_count": 7,
     "metadata": {},
     "output_type": "execute_result"
    }
   ],
   "source": [
    "y.head(2)"
   ]
  },
  {
   "cell_type": "code",
   "execution_count": 7,
   "id": "cb77ed8f-dfed-4de2-b0d5-0e154037e2ef",
   "metadata": {},
   "outputs": [],
   "source": [
    "# verinin train ve test olarak ikiye bölünmesi \n",
    "X_train, X_test, y_train, y_test = train_test_split(x, y, test_size = 0.2, random_state = 42)"
   ]
  },
  {
   "cell_type": "markdown",
   "id": "e08021b6-5ca1-4116-924c-39f70a84df53",
   "metadata": {},
   "source": [
    "Veri setinin %80'i train seti, kalan % 20'si de test seti olarak ayırdık."
   ]
  },
  {
   "cell_type": "code",
   "execution_count": 22,
   "id": "1790b425-d1d7-4e74-bb2a-2f29a75e635a",
   "metadata": {},
   "outputs": [
    {
     "name": "stdout",
     "output_type": "stream",
     "text": [
      "(1279, 11)\n",
      "(1279,)\n",
      "(320, 11)\n",
      "(320,)\n"
     ]
    }
   ],
   "source": [
    "print(X_train.shape)\n",
    "print(y_train.shape)\n",
    "print(X_test.shape)\n",
    "print(y_test.shape)"
   ]
  },
  {
   "cell_type": "code",
   "execution_count": 9,
   "id": "87763550-f0d8-4e47-a9f6-c65d7ff63134",
   "metadata": {},
   "outputs": [
    {
     "data": {
      "text/html": [
       "<div>\n",
       "<style scoped>\n",
       "    .dataframe tbody tr th:only-of-type {\n",
       "        vertical-align: middle;\n",
       "    }\n",
       "\n",
       "    .dataframe tbody tr th {\n",
       "        vertical-align: top;\n",
       "    }\n",
       "\n",
       "    .dataframe thead th {\n",
       "        text-align: right;\n",
       "    }\n",
       "</style>\n",
       "<table border=\"1\" class=\"dataframe\">\n",
       "  <thead>\n",
       "    <tr style=\"text-align: right;\">\n",
       "      <th></th>\n",
       "      <th>fixed_acidity</th>\n",
       "      <th>volatile_acidity</th>\n",
       "      <th>citric_acid</th>\n",
       "      <th>residual_sugar</th>\n",
       "      <th>chlorides</th>\n",
       "      <th>free_sulfur_dioxide</th>\n",
       "      <th>total_sulfur_dioxide</th>\n",
       "      <th>density</th>\n",
       "      <th>pH</th>\n",
       "      <th>sulphates</th>\n",
       "      <th>alcohol</th>\n",
       "      <th>quality</th>\n",
       "    </tr>\n",
       "  </thead>\n",
       "  <tbody>\n",
       "    <tr>\n",
       "      <th>0</th>\n",
       "      <td>7.4</td>\n",
       "      <td>0.70</td>\n",
       "      <td>0.00</td>\n",
       "      <td>1.9</td>\n",
       "      <td>0.076</td>\n",
       "      <td>11.0</td>\n",
       "      <td>34.0</td>\n",
       "      <td>0.9978</td>\n",
       "      <td>3.51</td>\n",
       "      <td>0.56</td>\n",
       "      <td>9.4</td>\n",
       "      <td>1</td>\n",
       "    </tr>\n",
       "    <tr>\n",
       "      <th>1</th>\n",
       "      <td>7.8</td>\n",
       "      <td>0.88</td>\n",
       "      <td>0.00</td>\n",
       "      <td>2.6</td>\n",
       "      <td>0.098</td>\n",
       "      <td>25.0</td>\n",
       "      <td>67.0</td>\n",
       "      <td>0.9968</td>\n",
       "      <td>3.20</td>\n",
       "      <td>0.68</td>\n",
       "      <td>9.8</td>\n",
       "      <td>1</td>\n",
       "    </tr>\n",
       "    <tr>\n",
       "      <th>2</th>\n",
       "      <td>7.8</td>\n",
       "      <td>0.76</td>\n",
       "      <td>0.04</td>\n",
       "      <td>2.3</td>\n",
       "      <td>0.092</td>\n",
       "      <td>15.0</td>\n",
       "      <td>54.0</td>\n",
       "      <td>0.9970</td>\n",
       "      <td>3.26</td>\n",
       "      <td>0.65</td>\n",
       "      <td>9.8</td>\n",
       "      <td>1</td>\n",
       "    </tr>\n",
       "    <tr>\n",
       "      <th>3</th>\n",
       "      <td>11.2</td>\n",
       "      <td>0.28</td>\n",
       "      <td>0.56</td>\n",
       "      <td>1.9</td>\n",
       "      <td>0.075</td>\n",
       "      <td>17.0</td>\n",
       "      <td>60.0</td>\n",
       "      <td>0.9980</td>\n",
       "      <td>3.16</td>\n",
       "      <td>0.58</td>\n",
       "      <td>9.8</td>\n",
       "      <td>1</td>\n",
       "    </tr>\n",
       "    <tr>\n",
       "      <th>4</th>\n",
       "      <td>7.4</td>\n",
       "      <td>0.70</td>\n",
       "      <td>0.00</td>\n",
       "      <td>1.9</td>\n",
       "      <td>0.076</td>\n",
       "      <td>11.0</td>\n",
       "      <td>34.0</td>\n",
       "      <td>0.9978</td>\n",
       "      <td>3.51</td>\n",
       "      <td>0.56</td>\n",
       "      <td>9.4</td>\n",
       "      <td>1</td>\n",
       "    </tr>\n",
       "  </tbody>\n",
       "</table>\n",
       "</div>"
      ],
      "text/plain": [
       "   fixed_acidity  volatile_acidity  citric_acid  residual_sugar  chlorides  \\\n",
       "0            7.4              0.70         0.00             1.9      0.076   \n",
       "1            7.8              0.88         0.00             2.6      0.098   \n",
       "2            7.8              0.76         0.04             2.3      0.092   \n",
       "3           11.2              0.28         0.56             1.9      0.075   \n",
       "4            7.4              0.70         0.00             1.9      0.076   \n",
       "\n",
       "   free_sulfur_dioxide  total_sulfur_dioxide  density    pH  sulphates  \\\n",
       "0                 11.0                  34.0   0.9978  3.51       0.56   \n",
       "1                 25.0                  67.0   0.9968  3.20       0.68   \n",
       "2                 15.0                  54.0   0.9970  3.26       0.65   \n",
       "3                 17.0                  60.0   0.9980  3.16       0.58   \n",
       "4                 11.0                  34.0   0.9978  3.51       0.56   \n",
       "\n",
       "   alcohol  quality  \n",
       "0      9.4        1  \n",
       "1      9.8        1  \n",
       "2      9.8        1  \n",
       "3      9.8        1  \n",
       "4      9.4        1  "
      ]
     },
     "execution_count": 9,
     "metadata": {},
     "output_type": "execute_result"
    }
   ],
   "source": [
    "df.head()"
   ]
  },
  {
   "cell_type": "code",
   "execution_count": 18,
   "id": "f47419f9-005b-4d9e-8dec-05cf29db15e6",
   "metadata": {},
   "outputs": [
    {
     "data": {
      "text/plain": [
       "array([1, 2, 0], dtype=int64)"
      ]
     },
     "execution_count": 18,
     "metadata": {},
     "output_type": "execute_result"
    }
   ],
   "source": [
    "df['quality'].unique()"
   ]
  },
  {
   "cell_type": "code",
   "execution_count": 17,
   "id": "94e4a766-9e79-4274-b95d-a7b3ade6f216",
   "metadata": {},
   "outputs": [
    {
     "data": {
      "text/plain": [
       "1    1319\n",
       "2     217\n",
       "0      63\n",
       "Name: quality, dtype: int64"
      ]
     },
     "execution_count": 17,
     "metadata": {},
     "output_type": "execute_result"
    }
   ],
   "source": [
    "df['quality'].value_counts()"
   ]
  },
  {
   "cell_type": "code",
   "execution_count": 8,
   "id": "1e52c775-89d5-4aca-865c-a42b62428c10",
   "metadata": {},
   "outputs": [],
   "source": [
    "from sklearn.preprocessing import StandardScaler\n",
    "sc = StandardScaler()\n",
    "x = sc.fit_transform(x)\n",
    "# --------------------------------\n",
    "from sklearn.decomposition import PCA\n",
    "pca = PCA()\n",
    "x_pca = pca.fit_transform(x)\n",
    "pca_new = PCA(n_components=8)\n",
    "x_new = pca_new.fit_transform(x)\n",
    "# -----------------------------------\n",
    "from sklearn.model_selection import train_test_split\n",
    "X_train, X_test, y_train, y_test = train_test_split(x_new, y, test_size = 0.2, random_state = 42)"
   ]
  },
  {
   "cell_type": "markdown",
   "id": "8cf82328-bf25-43b0-a807-ce945381dc4c",
   "metadata": {},
   "source": [
    "# 📊 MODEL"
   ]
  },
  {
   "cell_type": "markdown",
   "id": "b8be8756-b923-4c10-8a6f-043d090b866c",
   "metadata": {},
   "source": [
    "## Logistic Regression"
   ]
  },
  {
   "cell_type": "code",
   "execution_count": 9,
   "id": "d1d59db5-6d64-4333-bce7-928cace9455b",
   "metadata": {},
   "outputs": [
    {
     "name": "stdout",
     "output_type": "stream",
     "text": [
      "[[  0  11   0]\n",
      " [  0 252  10]\n",
      " [  0  37  10]] \n",
      "--------------------------\n",
      " Logistic Regression Accuracy Score:  0.81875\n"
     ]
    }
   ],
   "source": [
    "from sklearn.linear_model import LogisticRegression\n",
    "logr = LogisticRegression(solver='liblinear')\n",
    "logr.fit(X_train,y_train)\n",
    "y_pred_logr = logr.predict(X_test)\n",
    "cm_logr = confusion_matrix(y_test,y_pred_logr)\n",
    "logr_accuracy = accuracy_score(y_test, y_pred_logr)\n",
    "print(cm_logr, '\\n--------------------------\\n', 'Logistic Regression Accuracy Score: ', logr_accuracy)"
   ]
  },
  {
   "cell_type": "code",
   "execution_count": 9,
   "id": "23b54eb7-f9c9-4028-94c4-67fa9ae9c54f",
   "metadata": {},
   "outputs": [
    {
     "name": "stderr",
     "output_type": "stream",
     "text": [
      "[I 2023-06-10 22:01:26,619] A new study created in memory with name: no-name-8eda0b6d-bdf6-4405-b0f7-9cfc8efa0f2c\n"
     ]
    },
    {
     "name": "stdout",
     "output_type": "stream",
     "text": [
      "Best hyperparameters:  {'C': 760192413.5360472, 'solver': 'lbfgs', 'max_iter': 623}\n",
      "Best accuracy score:  0.828125\n"
     ]
    }
   ],
   "source": [
    "import optuna\n",
    "from sklearn.metrics import accuracy_score\n",
    "\n",
    "def objective(trial):\n",
    "    optuna.logging.disable_default_handler()\n",
    "    # Hiperparametre aralıklarını belirle\n",
    "    C = trial.suggest_float(\"C\", 1e-10, 1e10, log=True)\n",
    "    solver = trial.suggest_categorical(\"solver\", [\"newton-cg\", \"lbfgs\", \"liblinear\", \"sag\", \"saga\"])\n",
    "    max_iter = trial.suggest_int(\"max_iter\", 100, 1000)\n",
    "\n",
    "    # Modeli oluştur\n",
    "    logr = LogisticRegression(random_state=0, C=C, solver=solver, max_iter=max_iter)\n",
    "\n",
    "    # Modeli eğit\n",
    "    logr.fit(X_train, y_train)\n",
    "\n",
    "    # Tahmin yap\n",
    "    y_pred_logr = logr.predict(X_test)\n",
    "\n",
    "    # Doğruluk skorunu döndür\n",
    "    return accuracy_score(y_test, y_pred_logr)\n",
    "\n",
    "# Optuna çalışmasını oluştur\n",
    "study = optuna.create_study(direction=\"maximize\")\n",
    "\n",
    "# Optuna çalışmasını çalıştır\n",
    "study.optimize(objective, n_trials=100)\n",
    "\n",
    "\n",
    "# En iyi hiperparametreleri ve doğruluk skorunu yazdır\n",
    "print(\"Best hyperparameters: \", study.best_params)\n",
    "print(\"Best accuracy score: \", study.best_value)"
   ]
  },
  {
   "cell_type": "markdown",
   "id": "cbaade65-8c52-4ee2-bf6d-5e5b2c2ae0bf",
   "metadata": {},
   "source": [
    "## Support Vector Machine"
   ]
  },
  {
   "cell_type": "code",
   "execution_count": 10,
   "id": "a28029e5-98aa-4829-994a-7dcc0ae22332",
   "metadata": {},
   "outputs": [
    {
     "name": "stdout",
     "output_type": "stream",
     "text": [
      "[[  0  11   0]\n",
      " [  0 259   3]\n",
      " [  0  36  11]] \n",
      "--------------------------\n",
      " Support Vector Classifier Accuracy Score:  0.84375\n"
     ]
    }
   ],
   "source": [
    "from sklearn.svm import SVC\n",
    "svc = SVC(kernel='rbf')\n",
    "svc.fit(X_train,y_train)\n",
    "y_pred_svc = svc.predict(X_test)\n",
    "cm_svc = confusion_matrix(y_test,y_pred_svc)\n",
    "svc_accuracy = accuracy_score(y_test, y_pred_svc)\n",
    "print(cm_svc, '\\n--------------------------\\n', 'Support Vector Classifier Accuracy Score: ', svc_accuracy)"
   ]
  },
  {
   "cell_type": "markdown",
   "id": "d44dd3d4-4d21-49df-b480-f1c09b3e6f91",
   "metadata": {},
   "source": [
    "## Naive Bayes"
   ]
  },
  {
   "cell_type": "code",
   "execution_count": 11,
   "id": "8324677f-71de-413e-a57f-67cd51325355",
   "metadata": {},
   "outputs": [
    {
     "name": "stdout",
     "output_type": "stream",
     "text": [
      "[[  2   9   0]\n",
      " [  8 241  13]\n",
      " [  1  32  14]] \n",
      "--------------------------\n",
      " Naive Bayes Accuracy Score:  0.803125\n"
     ]
    }
   ],
   "source": [
    "from sklearn.naive_bayes import GaussianNB\n",
    "gnb = GaussianNB()\n",
    "gnb.fit(X_train, y_train)\n",
    "y_pred_gnb = gnb.predict(X_test)\n",
    "cm_gnb = confusion_matrix(y_test,y_pred_gnb)\n",
    "gnb_accuracy = accuracy_score(y_test, y_pred_gnb)\n",
    "print(cm_gnb, '\\n--------------------------\\n', 'Naive Bayes Accuracy Score: ', gnb_accuracy)"
   ]
  },
  {
   "cell_type": "markdown",
   "id": "e0579948-4133-4c1e-a1f2-9f80756f732d",
   "metadata": {},
   "source": [
    "## K Neighbors Classifier"
   ]
  },
  {
   "cell_type": "code",
   "execution_count": 17,
   "id": "aa636df4-faeb-49ed-93a6-dbcf9c6d79be",
   "metadata": {},
   "outputs": [
    {
     "name": "stdout",
     "output_type": "stream",
     "text": [
      "[[  2   9   0]\n",
      " [  4 236  22]\n",
      " [  1  24  22]] \n",
      "--------------------------\n",
      " KNN Accuracy Score:  0.8125\n"
     ]
    }
   ],
   "source": [
    "from sklearn.neighbors import KNeighborsClassifier\n",
    "knn = KNeighborsClassifier(n_neighbors=1, metric='minkowski')\n",
    "knn.fit(X_train,y_train)\n",
    "y_pred_knn = knn.predict(X_test)\n",
    "cm_knn = confusion_matrix(y_test,y_pred_knn)\n",
    "knn_accuracy = accuracy_score(y_test, y_pred_knn)\n",
    "print(cm_knn, '\\n--------------------------\\n', 'KNN Accuracy Score: ', knn_accuracy)"
   ]
  },
  {
   "cell_type": "markdown",
   "id": "ad9f5ef6-e788-4634-a5a6-64ada7d1176b",
   "metadata": {},
   "source": [
    "## Decision Tree"
   ]
  },
  {
   "cell_type": "code",
   "execution_count": 28,
   "id": "7390f219-faa5-4d1c-9460-bcd4f4534eae",
   "metadata": {},
   "outputs": [
    {
     "name": "stdout",
     "output_type": "stream",
     "text": [
      "[[  1  10   0]\n",
      " [  5 242  15]\n",
      " [  0  20  27]] \n",
      "--------------------------\n",
      " Decision Tree Accuracy Score:  0.84375\n"
     ]
    }
   ],
   "source": [
    "from sklearn.tree import DecisionTreeClassifier\n",
    "dtc = DecisionTreeClassifier(criterion = 'entropy')\n",
    "dtc.fit(X_train,y_train)\n",
    "y_pred_dtc = dtc.predict(X_test)\n",
    "cm_dtc = confusion_matrix(y_test,y_pred_dtc)\n",
    "dtc_accuracy = accuracy_score(y_test, y_pred_dtc)\n",
    "print(cm_dtc, '\\n--------------------------\\n', 'Decision Tree Accuracy Score: ', dtc_accuracy)"
   ]
  },
  {
   "cell_type": "markdown",
   "id": "214ef6e8-e986-4852-9116-4ae9db073635",
   "metadata": {},
   "source": [
    "## Random Forest"
   ]
  },
  {
   "cell_type": "code",
   "execution_count": 12,
   "id": "908987da-f0eb-4571-b71a-616bab6923ff",
   "metadata": {},
   "outputs": [
    {
     "name": "stdout",
     "output_type": "stream",
     "text": [
      "[[  1  10   0]\n",
      " [  0 258   4]\n",
      " [  0  23  24]] \n",
      "--------------------------\n",
      " Random Forest Accuracy Score:  0.884375\n"
     ]
    }
   ],
   "source": [
    "from sklearn.ensemble import RandomForestClassifier\n",
    "rfc = RandomForestClassifier()\n",
    "rfc.fit(X_train,y_train)\n",
    "y_pred_rfc = rfc.predict(X_test)\n",
    "cm_rfc = confusion_matrix(y_test,y_pred_rfc)\n",
    "rfc_accuracy = accuracy_score(y_test, y_pred_rfc)\n",
    "print(cm_rfc, '\\n--------------------------\\n', 'Random Forest Accuracy Score: ', rfc_accuracy)"
   ]
  },
  {
   "cell_type": "markdown",
   "id": "76954a88-34a5-44c9-ae4f-3dc3cc5c176b",
   "metadata": {},
   "source": [
    "## XGBoost"
   ]
  },
  {
   "cell_type": "code",
   "execution_count": 13,
   "id": "02c25223-b504-4bb3-af3b-bc421e75f65e",
   "metadata": {},
   "outputs": [
    {
     "name": "stdout",
     "output_type": "stream",
     "text": [
      "[[  1  10   0]\n",
      " [  0 255   7]\n",
      " [  0  22  25]] \n",
      "--------------------------\n",
      " XGB Accuracy Score:  0.878125\n"
     ]
    }
   ],
   "source": [
    "import xgboost as xgb\n",
    "xgb = xgb.XGBClassifier(objective='multiclass:softmax', num_class=3)\n",
    "xgb.fit(X_train,y_train)\n",
    "y_pred_xgb = xgb.predict(X_test)\n",
    "cm_xgb = confusion_matrix(y_test,y_pred_xgb)\n",
    "xgb_accuracy = accuracy_score(y_test, y_pred_xgb)\n",
    "print(cm_xgb, '\\n--------------------------\\n', 'XGB Accuracy Score: ', xgb_accuracy)"
   ]
  },
  {
   "cell_type": "code",
   "execution_count": 37,
   "id": "6c097408-72a2-42f2-b39b-9ccb4a539d57",
   "metadata": {},
   "outputs": [
    {
     "name": "stdout",
     "output_type": "stream",
     "text": [
      "[17:43:30] WARNING: C:/buildkite-agent/builds/buildkite-windows-cpu-autoscaling-group-i-0fc7796c793e6356f-1/xgboost/xgboost-ci-windows/src/learner.cc:767: \n",
      "Parameters: { \"colsample_bytree\", \"max_depth\", \"min_child_weight\", \"subsample\" } are not used.\n",
      "\n",
      "Best params: {'booster': 'dart', 'max_depth': 7, 'min_child_weight': 9, 'subsample': 0.8, 'colsample_bytree': 0.7, 'learning_rate': 0.09077420657550428, 'n_estimators': 800}\n",
      "Confusion matrix: [[  0  11   0]\n",
      " [  2 252   8]\n",
      " [  0  17  30]]\n",
      "XGB Accuracy Score: 0.88125\n"
     ]
    }
   ],
   "source": [
    "import xgboost as xgb\n",
    "import optuna\n",
    "from sklearn.metrics import accuracy_score, confusion_matrix\n",
    "from sklearn.model_selection import train_test_split\n",
    "\n",
    "# Verilerinizi X_train, y_train, X_test, y_test şeklinde ayarlayın\n",
    "X_train, X_test, y_train, y_test = train_test_split(x, y, test_size=0.2, random_state=42)\n",
    "\n",
    "def objective(trial):\n",
    "    params = {\n",
    "        'objective': 'multiclass:softmax',\n",
    "        'num_class': 3,\n",
    "        'eval_metric': 'mlogloss',\n",
    "        'booster': trial.suggest_categorical('booster', ['gbtree', 'gblinear', 'dart']),\n",
    "        'max_depth': trial.suggest_int('max_depth', 3, 10),\n",
    "        'min_child_weight': trial.suggest_int('min_child_weight', 1, 10),\n",
    "        'subsample': trial.suggest_discrete_uniform('subsample', 0.6, 1, 0.1),\n",
    "        'colsample_bytree': trial.suggest_discrete_uniform('colsample_bytree', 0.6, 1, 0.1),\n",
    "        'learning_rate': trial.suggest_loguniform('learning_rate', 0.001, 0.1),\n",
    "        'n_estimators': trial.suggest_int('n_estimators', 100, 1000, step=100),\n",
    "        'seed': 42\n",
    "    }\n",
    "\n",
    "    model = xgb.XGBClassifier(**params)\n",
    "    model.fit(X_train, y_train)\n",
    "    y_pred = model.predict(X_test)\n",
    "    accuracy = accuracy_score(y_test, y_pred)\n",
    "    return accuracy\n",
    "\n",
    "study = optuna.create_study(direction='maximize')\n",
    "study.optimize(objective, n_trials=5)\n",
    "\n",
    "best_params = study.best_params\n",
    "best_model = xgb.XGBClassifier(**best_params)\n",
    "best_model.fit(X_train, y_train)\n",
    "y_pred_xgb = best_model.predict(X_test)\n",
    "cm_xgb = confusion_matrix(y_test, y_pred_xgb)\n",
    "xgb_accuracy = accuracy_score(y_test, y_pred_xgb)\n",
    "\n",
    "print(\"Best params:\", best_params)\n",
    "print(\"Confusion matrix:\", cm_xgb)\n",
    "print(\"XGB Accuracy Score:\", xgb_accuracy)"
   ]
  },
  {
   "cell_type": "markdown",
   "id": "16c90fd4-dd7e-4de3-ba60-59de5fd99169",
   "metadata": {},
   "source": [
    "## LightGBM"
   ]
  },
  {
   "cell_type": "code",
   "execution_count": 14,
   "id": "dd49b92b-be2f-4ef3-b7f3-34a820a8c3e6",
   "metadata": {},
   "outputs": [
    {
     "name": "stdout",
     "output_type": "stream",
     "text": [
      "[[  0  11   0]\n",
      " [  0 255   7]\n",
      " [  0  23  24]] \n",
      "--------------------------\n",
      " LightGBM Accuracy Score:  0.871875\n"
     ]
    }
   ],
   "source": [
    "import lightgbm as lgb\n",
    "lgbm = lgb.LGBMClassifier(objective='multiclass', num_class=3)\n",
    "lgbm.fit(X_train, y_train)\n",
    "y_pred_lgbm = lgbm.predict(X_test)\n",
    "cm_lgbm = confusion_matrix(y_test, y_pred_lgbm)\n",
    "lgbm_accuracy = accuracy_score(y_test, y_pred_lgbm)\n",
    "print(cm_lgbm, '\\n--------------------------\\n', 'LightGBM Accuracy Score: ', lgbm_accuracy)"
   ]
  },
  {
   "cell_type": "markdown",
   "id": "6f92a688-ec08-472d-a560-78f96e277bcd",
   "metadata": {},
   "source": [
    "## CatBoost"
   ]
  },
  {
   "cell_type": "code",
   "execution_count": 15,
   "id": "47eeb70f-fb16-4f26-9818-6c0f047ac620",
   "metadata": {},
   "outputs": [
    {
     "name": "stdout",
     "output_type": "stream",
     "text": [
      "[[  1  10   0]\n",
      " [  0 256   6]\n",
      " [  0  18  29]] \n",
      "--------------------------\n",
      " CatBoost Accuracy Score:  0.89375\n"
     ]
    }
   ],
   "source": [
    "import catboost as cb\n",
    "cb = cb.CatBoostClassifier(loss_function='MultiClass', classes_count=3, verbose=0)\n",
    "cb.fit(X_train, y_train)\n",
    "y_pred_cb = cb.predict(X_test)\n",
    "cm_cb = confusion_matrix(y_test, y_pred_cb)\n",
    "cb_accuracy = accuracy_score(y_test, y_pred_cb)\n",
    "print(cm_cb, '\\n--------------------------\\n', 'CatBoost Accuracy Score: ', cb_accuracy)"
   ]
  },
  {
   "cell_type": "markdown",
   "id": "3ab99612-af27-4c34-8836-530f11771674",
   "metadata": {},
   "source": [
    "## AdaBoost"
   ]
  },
  {
   "cell_type": "code",
   "execution_count": 16,
   "id": "dca8490b-51f0-4126-a09b-ee5cf40d5a32",
   "metadata": {},
   "outputs": [
    {
     "name": "stdout",
     "output_type": "stream",
     "text": [
      "[[  1  10   0]\n",
      " [  6 236  20]\n",
      " [  0  24  23]] \n",
      "--------------------------\n",
      " AdaBoost Accuracy Score:  0.8125\n"
     ]
    }
   ],
   "source": [
    "from sklearn.ensemble import AdaBoostClassifier \n",
    "ab = AdaBoostClassifier()\n",
    "ab.fit(X_train, y_train)\n",
    "y_pred_ab = ab.predict(X_test)\n",
    "cm_ab = confusion_matrix(y_test, y_pred_ab)\n",
    "ab_accuracy = accuracy_score(y_test, y_pred_ab)\n",
    "print(cm_ab, '\\n--------------------------\\n', 'AdaBoost Accuracy Score: ', ab_accuracy)"
   ]
  }
 ],
 "metadata": {
  "kernelspec": {
   "display_name": "Python 3 (ipykernel)",
   "language": "python",
   "name": "python3"
  },
  "language_info": {
   "codemirror_mode": {
    "name": "ipython",
    "version": 3
   },
   "file_extension": ".py",
   "mimetype": "text/x-python",
   "name": "python",
   "nbconvert_exporter": "python",
   "pygments_lexer": "ipython3",
   "version": "3.9.16"
  }
 },
 "nbformat": 4,
 "nbformat_minor": 5
}
