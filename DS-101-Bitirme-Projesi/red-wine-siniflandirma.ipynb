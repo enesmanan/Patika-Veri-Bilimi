{
 "cells": [
  {
   "cell_type": "code",
   "execution_count": 1,
   "id": "84f8bc71-c56a-498d-88ce-1fde0b74a4f1",
   "metadata": {},
   "outputs": [],
   "source": [
    "# gerekli kütüphaneler\n",
    "import numpy as np  # sayısal işlemler \n",
    "import pandas as pd  # veri manipülasyonu \n",
    "import seaborn as sns  # görselleştirme\n",
    "import matplotlib.pyplot as plt  # görselleştirme\n",
    "\n",
    "# görsel çıktılardaki uyarı mesajları için\n",
    "import warnings \n",
    "warnings.filterwarnings('ignore')\n",
    "\n",
    "# modellerin basarisini degerlendirmek icin\n",
    "from sklearn.metrics import accuracy_score\n",
    "from sklearn.metrics import confusion_matrix\n",
    "\n",
    "# train ve test olarak bölmek için\n",
    "from sklearn.model_selection import train_test_split"
   ]
  },
  {
   "cell_type": "code",
   "execution_count": 2,
   "id": "d90838e9-fb17-4a74-ad5c-959fd22433ed",
   "metadata": {},
   "outputs": [],
   "source": [
    "# temizlenmiş verinin wine değişkenine yüklenmesi\n",
    "wine = pd.read_csv('redwine-clean.csv', index_col=0)\n",
    "df = wine.copy()"
   ]
  },
  {
   "cell_type": "code",
   "execution_count": 3,
   "id": "a95df554-7beb-4689-835d-96e726d83487",
   "metadata": {},
   "outputs": [],
   "source": [
    "# Modellerin olası bir hata vermesini önlemek için sütun isimlerindeki boşukları _ ile dolduruyoruz.\n",
    "df.rename(columns = {'fixed acidity': 'fixed_acidity', 'volatile acidity': 'volatile_acidity',\n",
    "                    'citric acid': 'citric_acid', 'residual sugar': 'residual_sugar',\n",
    "                    'chlorides': 'chlorides', 'free sulfur dioxide': 'free_sulfur_dioxide',\n",
    "                    'total sulfur dioxide': 'total_sulfur_dioxide'}, inplace = True)"
   ]
  },
  {
   "cell_type": "code",
   "execution_count": 4,
   "id": "c94853ae-a581-4735-bea0-bc6d58936a03",
   "metadata": {},
   "outputs": [],
   "source": [
    "# xgboost gibi bazı algoritmalar hedef değişkenin değerlerinin 0,1,2... \n",
    "# gibi olmasını ister dolayısıyla ona göre düzenleme yapıyoruz\n",
    "df['quality'] = df['quality'].map({'yuksek': 2, 'orta': 1, 'zayif': 0})"
   ]
  },
  {
   "cell_type": "code",
   "execution_count": 5,
   "id": "3421a12c-af06-4bf5-8d2b-374c1f098324",
   "metadata": {},
   "outputs": [],
   "source": [
    "# bağımlı ve bağımzısz değişkenlerimizi belirliyoruz\n",
    "y = df['quality']\n",
    "x = df.drop(['quality'], axis=1)"
   ]
  },
  {
   "cell_type": "code",
   "execution_count": 6,
   "id": "cb77ed8f-dfed-4de2-b0d5-0e154037e2ef",
   "metadata": {},
   "outputs": [],
   "source": [
    "# verinin train ve test olarak ikiye bölünmesi \n",
    "X_train, X_test, y_train, y_test = train_test_split(x, y, test_size = 0.2, random_state = 42)"
   ]
  },
  {
   "cell_type": "code",
   "execution_count": 7,
   "id": "87763550-f0d8-4e47-a9f6-c65d7ff63134",
   "metadata": {},
   "outputs": [
    {
     "data": {
      "text/html": [
       "<div>\n",
       "<style scoped>\n",
       "    .dataframe tbody tr th:only-of-type {\n",
       "        vertical-align: middle;\n",
       "    }\n",
       "\n",
       "    .dataframe tbody tr th {\n",
       "        vertical-align: top;\n",
       "    }\n",
       "\n",
       "    .dataframe thead th {\n",
       "        text-align: right;\n",
       "    }\n",
       "</style>\n",
       "<table border=\"1\" class=\"dataframe\">\n",
       "  <thead>\n",
       "    <tr style=\"text-align: right;\">\n",
       "      <th></th>\n",
       "      <th>fixed_acidity</th>\n",
       "      <th>volatile_acidity</th>\n",
       "      <th>citric_acid</th>\n",
       "      <th>residual_sugar</th>\n",
       "      <th>chlorides</th>\n",
       "      <th>free_sulfur_dioxide</th>\n",
       "      <th>total_sulfur_dioxide</th>\n",
       "      <th>density</th>\n",
       "      <th>pH</th>\n",
       "      <th>sulphates</th>\n",
       "      <th>alcohol</th>\n",
       "      <th>quality</th>\n",
       "    </tr>\n",
       "  </thead>\n",
       "  <tbody>\n",
       "    <tr>\n",
       "      <th>0</th>\n",
       "      <td>7.4</td>\n",
       "      <td>0.70</td>\n",
       "      <td>0.00</td>\n",
       "      <td>1.9</td>\n",
       "      <td>0.076</td>\n",
       "      <td>11.0</td>\n",
       "      <td>34.0</td>\n",
       "      <td>0.9978</td>\n",
       "      <td>3.51</td>\n",
       "      <td>0.56</td>\n",
       "      <td>9.4</td>\n",
       "      <td>1</td>\n",
       "    </tr>\n",
       "    <tr>\n",
       "      <th>1</th>\n",
       "      <td>7.8</td>\n",
       "      <td>0.88</td>\n",
       "      <td>0.00</td>\n",
       "      <td>2.6</td>\n",
       "      <td>0.098</td>\n",
       "      <td>25.0</td>\n",
       "      <td>67.0</td>\n",
       "      <td>0.9968</td>\n",
       "      <td>3.20</td>\n",
       "      <td>0.68</td>\n",
       "      <td>9.8</td>\n",
       "      <td>1</td>\n",
       "    </tr>\n",
       "    <tr>\n",
       "      <th>2</th>\n",
       "      <td>7.8</td>\n",
       "      <td>0.76</td>\n",
       "      <td>0.04</td>\n",
       "      <td>2.3</td>\n",
       "      <td>0.092</td>\n",
       "      <td>15.0</td>\n",
       "      <td>54.0</td>\n",
       "      <td>0.9970</td>\n",
       "      <td>3.26</td>\n",
       "      <td>0.65</td>\n",
       "      <td>9.8</td>\n",
       "      <td>1</td>\n",
       "    </tr>\n",
       "    <tr>\n",
       "      <th>3</th>\n",
       "      <td>11.2</td>\n",
       "      <td>0.28</td>\n",
       "      <td>0.56</td>\n",
       "      <td>1.9</td>\n",
       "      <td>0.075</td>\n",
       "      <td>17.0</td>\n",
       "      <td>60.0</td>\n",
       "      <td>0.9980</td>\n",
       "      <td>3.16</td>\n",
       "      <td>0.58</td>\n",
       "      <td>9.8</td>\n",
       "      <td>1</td>\n",
       "    </tr>\n",
       "    <tr>\n",
       "      <th>4</th>\n",
       "      <td>7.4</td>\n",
       "      <td>0.70</td>\n",
       "      <td>0.00</td>\n",
       "      <td>1.9</td>\n",
       "      <td>0.076</td>\n",
       "      <td>11.0</td>\n",
       "      <td>34.0</td>\n",
       "      <td>0.9978</td>\n",
       "      <td>3.51</td>\n",
       "      <td>0.56</td>\n",
       "      <td>9.4</td>\n",
       "      <td>1</td>\n",
       "    </tr>\n",
       "  </tbody>\n",
       "</table>\n",
       "</div>"
      ],
      "text/plain": [
       "   fixed_acidity  volatile_acidity  citric_acid  residual_sugar  chlorides  \\\n",
       "0            7.4              0.70         0.00             1.9      0.076   \n",
       "1            7.8              0.88         0.00             2.6      0.098   \n",
       "2            7.8              0.76         0.04             2.3      0.092   \n",
       "3           11.2              0.28         0.56             1.9      0.075   \n",
       "4            7.4              0.70         0.00             1.9      0.076   \n",
       "\n",
       "   free_sulfur_dioxide  total_sulfur_dioxide  density    pH  sulphates  \\\n",
       "0                 11.0                  34.0   0.9978  3.51       0.56   \n",
       "1                 25.0                  67.0   0.9968  3.20       0.68   \n",
       "2                 15.0                  54.0   0.9970  3.26       0.65   \n",
       "3                 17.0                  60.0   0.9980  3.16       0.58   \n",
       "4                 11.0                  34.0   0.9978  3.51       0.56   \n",
       "\n",
       "   alcohol  quality  \n",
       "0      9.4        1  \n",
       "1      9.8        1  \n",
       "2      9.8        1  \n",
       "3      9.8        1  \n",
       "4      9.4        1  "
      ]
     },
     "execution_count": 7,
     "metadata": {},
     "output_type": "execute_result"
    }
   ],
   "source": [
    "df.head()"
   ]
  },
  {
   "cell_type": "code",
   "execution_count": 8,
   "id": "f47419f9-005b-4d9e-8dec-05cf29db15e6",
   "metadata": {},
   "outputs": [
    {
     "data": {
      "text/plain": [
       "array([1, 2, 0], dtype=int64)"
      ]
     },
     "execution_count": 8,
     "metadata": {},
     "output_type": "execute_result"
    }
   ],
   "source": [
    "df['quality'].unique()"
   ]
  },
  {
   "cell_type": "markdown",
   "id": "b8be8756-b923-4c10-8a6f-043d090b866c",
   "metadata": {},
   "source": [
    "## Logistic Regression"
   ]
  },
  {
   "cell_type": "code",
   "execution_count": 9,
   "id": "d1d59db5-6d64-4333-bce7-928cace9455b",
   "metadata": {},
   "outputs": [
    {
     "name": "stdout",
     "output_type": "stream",
     "text": [
      "[[  0  11   0]\n",
      " [  0 253   9]\n",
      " [  0  38   9]] \n",
      "--------------------------\n",
      " Logistic Regression Accuracy Score:  0.81875\n"
     ]
    }
   ],
   "source": [
    "from sklearn.linear_model import LogisticRegression\n",
    "logr = LogisticRegression(random_state=0)\n",
    "logr.fit(X_train,y_train)\n",
    "y_pred_logr = logr.predict(X_test)\n",
    "cm_logr = confusion_matrix(y_test,y_pred_logr)\n",
    "logr_accuracy = accuracy_score(y_test, y_pred_logr)\n",
    "print(cm_logr, '\\n--------------------------\\n', 'Logistic Regression Accuracy Score: ', logr_accuracy)"
   ]
  },
  {
   "cell_type": "markdown",
   "id": "cbaade65-8c52-4ee2-bf6d-5e5b2c2ae0bf",
   "metadata": {},
   "source": [
    "## Support Vector Machine"
   ]
  },
  {
   "cell_type": "code",
   "execution_count": 10,
   "id": "a28029e5-98aa-4829-994a-7dcc0ae22332",
   "metadata": {},
   "outputs": [
    {
     "name": "stdout",
     "output_type": "stream",
     "text": [
      "[[  0  11   0]\n",
      " [  0 262   0]\n",
      " [  0  46   1]] \n",
      "--------------------------\n",
      " Support Vector Classifier Accuracy Score:  0.821875\n"
     ]
    }
   ],
   "source": [
    "from sklearn.svm import SVC\n",
    "svc = SVC(kernel='rbf')\n",
    "svc.fit(X_train,y_train)\n",
    "y_pred_svc = svc.predict(X_test)\n",
    "cm_svc = confusion_matrix(y_test,y_pred_svc)\n",
    "svc_accuracy = accuracy_score(y_test, y_pred_svc)\n",
    "print(cm_svc, '\\n--------------------------\\n', 'Support Vector Classifier Accuracy Score: ', svc_accuracy)"
   ]
  },
  {
   "cell_type": "markdown",
   "id": "d44dd3d4-4d21-49df-b480-f1c09b3e6f91",
   "metadata": {},
   "source": [
    "## Naive Bayes"
   ]
  },
  {
   "cell_type": "code",
   "execution_count": 11,
   "id": "8324677f-71de-413e-a57f-67cd51325355",
   "metadata": {},
   "outputs": [
    {
     "name": "stdout",
     "output_type": "stream",
     "text": [
      "[[  3   8   0]\n",
      " [  2 228  32]\n",
      " [  0  18  29]] \n",
      "--------------------------\n",
      " Naive Bayes Accuracy Score:  0.8125\n"
     ]
    }
   ],
   "source": [
    "from sklearn.naive_bayes import GaussianNB\n",
    "gnb = GaussianNB()\n",
    "gnb.fit(X_train, y_train)\n",
    "y_pred_gnb = gnb.predict(X_test)\n",
    "cm_gnb = confusion_matrix(y_test,y_pred_gnb)\n",
    "gnb_accuracy = accuracy_score(y_test, y_pred_gnb)\n",
    "print(cm_gnb, '\\n--------------------------\\n', 'Naive Bayes Accuracy Score: ', gnb_accuracy)"
   ]
  },
  {
   "cell_type": "markdown",
   "id": "e0579948-4133-4c1e-a1f2-9f80756f732d",
   "metadata": {},
   "source": [
    "## K Neighbors Classifier"
   ]
  },
  {
   "cell_type": "code",
   "execution_count": 12,
   "id": "aa636df4-faeb-49ed-93a6-dbcf9c6d79be",
   "metadata": {},
   "outputs": [
    {
     "name": "stdout",
     "output_type": "stream",
     "text": [
      "[[  2   9   0]\n",
      " [  4 236  22]\n",
      " [  1  24  22]] \n",
      "--------------------------\n",
      " KNN Accuracy Score:  0.8125\n"
     ]
    }
   ],
   "source": [
    "from sklearn.neighbors import KNeighborsClassifier\n",
    "knn = KNeighborsClassifier(n_neighbors=1, metric='minkowski')\n",
    "knn.fit(X_train,y_train)\n",
    "y_pred_knn = knn.predict(X_test)\n",
    "cm_knn = confusion_matrix(y_test,y_pred_knn)\n",
    "knn_accuracy = accuracy_score(y_test, y_pred_knn)\n",
    "print(cm_knn, '\\n--------------------------\\n', 'KNN Accuracy Score: ', knn_accuracy)"
   ]
  },
  {
   "cell_type": "markdown",
   "id": "ad9f5ef6-e788-4634-a5a6-64ada7d1176b",
   "metadata": {},
   "source": [
    "## Decision Tree"
   ]
  },
  {
   "cell_type": "code",
   "execution_count": 13,
   "id": "7390f219-faa5-4d1c-9460-bcd4f4534eae",
   "metadata": {},
   "outputs": [
    {
     "name": "stdout",
     "output_type": "stream",
     "text": [
      "[[  2   9   0]\n",
      " [  6 236  20]\n",
      " [  0  22  25]] \n",
      "--------------------------\n",
      " Decision Tree Accuracy Score:  0.821875\n"
     ]
    }
   ],
   "source": [
    "from sklearn.tree import DecisionTreeClassifier\n",
    "dtc = DecisionTreeClassifier(criterion = 'entropy')\n",
    "dtc.fit(X_train,y_train)\n",
    "y_pred_dtc = dtc.predict(X_test)\n",
    "cm_dtc = confusion_matrix(y_test,y_pred_dtc)\n",
    "dtc_accuracy = accuracy_score(y_test, y_pred_dtc)\n",
    "print(cm_dtc, '\\n--------------------------\\n', 'Decision Tree Accuracy Score: ', dtc_accuracy)"
   ]
  },
  {
   "cell_type": "markdown",
   "id": "214ef6e8-e986-4852-9116-4ae9db073635",
   "metadata": {},
   "source": [
    "## Random Forest"
   ]
  },
  {
   "cell_type": "code",
   "execution_count": 14,
   "id": "908987da-f0eb-4571-b71a-616bab6923ff",
   "metadata": {},
   "outputs": [
    {
     "name": "stdout",
     "output_type": "stream",
     "text": [
      "[[  0  11   0]\n",
      " [  0 251  11]\n",
      " [  0  22  25]] \n",
      "--------------------------\n",
      " Random Forest Accuracy Score:  0.8625\n"
     ]
    }
   ],
   "source": [
    "from sklearn.ensemble import RandomForestClassifier\n",
    "rfc = RandomForestClassifier()\n",
    "rfc.fit(X_train,y_train)\n",
    "y_pred_rfc = rfc.predict(X_test)\n",
    "cm_rfc = confusion_matrix(y_test,y_pred_rfc)\n",
    "rfc_accuracy = accuracy_score(y_test, y_pred_rfc)\n",
    "print(cm_rfc, '\\n--------------------------\\n', 'Random Forest Accuracy Score: ', rfc_accuracy)"
   ]
  },
  {
   "cell_type": "markdown",
   "id": "76954a88-34a5-44c9-ae4f-3dc3cc5c176b",
   "metadata": {},
   "source": [
    "## XGBoost"
   ]
  },
  {
   "cell_type": "code",
   "execution_count": 15,
   "id": "02c25223-b504-4bb3-af3b-bc421e75f65e",
   "metadata": {},
   "outputs": [
    {
     "name": "stdout",
     "output_type": "stream",
     "text": [
      "[[  0  11   0]\n",
      " [  0 256   6]\n",
      " [  0  20  27]] \n",
      "--------------------------\n",
      " XGB Accuracy Score:  0.884375\n"
     ]
    }
   ],
   "source": [
    "import xgboost as xgb\n",
    "xgb = xgb.XGBClassifier(objective='multiclass:softmax', num_class=3)\n",
    "xgb.fit(X_train,y_train)\n",
    "y_pred_xgb = xgb.predict(X_test)\n",
    "cm_xgb = confusion_matrix(y_test,y_pred_xgb)\n",
    "xgb_accuracy = accuracy_score(y_test, y_pred_xgb)\n",
    "print(cm_xgb, '\\n--------------------------\\n', 'XGB Accuracy Score: ', xgb_accuracy)"
   ]
  },
  {
   "cell_type": "markdown",
   "id": "16c90fd4-dd7e-4de3-ba60-59de5fd99169",
   "metadata": {},
   "source": [
    "## LightGBM"
   ]
  },
  {
   "cell_type": "code",
   "execution_count": 16,
   "id": "dd49b92b-be2f-4ef3-b7f3-34a820a8c3e6",
   "metadata": {},
   "outputs": [
    {
     "name": "stdout",
     "output_type": "stream",
     "text": [
      "[[  0  11   0]\n",
      " [  0 248  14]\n",
      " [  0  19  28]] \n",
      "--------------------------\n",
      " LightGBM Accuracy Score:  0.8625\n"
     ]
    }
   ],
   "source": [
    "import lightgbm as lgb\n",
    "lgbm = lgb.LGBMClassifier(objective='multiclass', num_class=3)\n",
    "lgbm.fit(X_train, y_train)\n",
    "y_pred_lgbm = lgbm.predict(X_test)\n",
    "cm_lgbm = confusion_matrix(y_test, y_pred_lgbm)\n",
    "lgbm_accuracy = accuracy_score(y_test, y_pred_lgbm)\n",
    "print(cm_lgbm, '\\n--------------------------\\n', 'LightGBM Accuracy Score: ', lgbm_accuracy)"
   ]
  },
  {
   "cell_type": "markdown",
   "id": "6f92a688-ec08-472d-a560-78f96e277bcd",
   "metadata": {},
   "source": [
    "## CatBoost"
   ]
  },
  {
   "cell_type": "code",
   "execution_count": 19,
   "id": "47eeb70f-fb16-4f26-9818-6c0f047ac620",
   "metadata": {},
   "outputs": [
    {
     "name": "stdout",
     "output_type": "stream",
     "text": [
      "[[  1  10   0]\n",
      " [  0 252  10]\n",
      " [  0  18  29]] \n",
      "--------------------------\n",
      " CatBoost Accuracy Score:  0.88125\n"
     ]
    }
   ],
   "source": [
    "import catboost as cb\n",
    "cb = cb.CatBoostClassifier(loss_function='MultiClass', classes_count=3, verbose=0)\n",
    "cb.fit(X_train, y_train)\n",
    "y_pred_cb = cbm.predict(X_test)\n",
    "cm_cb = confusion_matrix(y_test, y_pred_cb)\n",
    "cb_accuracy = accuracy_score(y_test, y_pred_cb)\n",
    "print(cm_cb, '\\n--------------------------\\n', 'CatBoost Accuracy Score: ', cb_accuracy)"
   ]
  },
  {
   "cell_type": "code",
   "execution_count": null,
   "id": "fa93ce1c-8112-409a-b24a-e94bdf6c44e7",
   "metadata": {},
   "outputs": [],
   "source": []
  }
 ],
 "metadata": {
  "kernelspec": {
   "display_name": "Python 3 (ipykernel)",
   "language": "python",
   "name": "python3"
  },
  "language_info": {
   "codemirror_mode": {
    "name": "ipython",
    "version": 3
   },
   "file_extension": ".py",
   "mimetype": "text/x-python",
   "name": "python",
   "nbconvert_exporter": "python",
   "pygments_lexer": "ipython3",
   "version": "3.9.16"
  }
 },
 "nbformat": 4,
 "nbformat_minor": 5
}
