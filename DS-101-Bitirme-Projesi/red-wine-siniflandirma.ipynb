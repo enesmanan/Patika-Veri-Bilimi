{
 "cells": [
  {
   "cell_type": "code",
   "execution_count": null,
   "id": "84f8bc71-c56a-498d-88ce-1fde0b74a4f1",
   "metadata": {},
   "outputs": [],
   "source": [
    "# gerekli kütüphaneler\n",
    "import numpy as np  # sayısal işlemler \n",
    "import pandas as pd  # veri manipülasyonu \n",
    "import seaborn as sns  # görselleştirme\n",
    "import matplotlib.pyplot as plt  # görselleştirme\n",
    "\n",
    "# görsel çıktılardaki uyarı mesajları için\n",
    "import warnings \n",
    "warnings.filterwarnings(\"ignore\")\n",
    "# verinin wine değişkenine yüklenmesi\n",
    "wine = pd.read_csv('winequality-red.csv')\n",
    "df = wine.copy()"
   ]
  },
  {
   "cell_type": "code",
   "execution_count": null,
   "id": "39f89666-d1b2-498f-98de-142f49353172",
   "metadata": {},
   "outputs": [],
   "source": [
    "#Standardization\n",
    "from sklearn.metrics import accuracy_score\n",
    "from sklearn.metrics import confusion_matrix\n",
    "from sklearn.model_selection import train_test_split\n",
    "from sklearn.preprocessing import StandardScaler\n",
    "std = StandardScaler()\n",
    "df.iloc[:,:-1]=std.fit_transform(df.iloc[:,:-1])\n",
    "df[\"quality\"] = df[\"quality\"].map({'yuksek': 2, 'orta': 1, 'zayif': 0})\n",
    "y = df[\"quality\"]\n",
    "x = df.drop([\"quality\"], axis=1)\n",
    "X_train, X_test, y_train, y_test = train_test_split(x, y, test_size = 0.2, random_state = 42)\n",
    "df[\"quality\"].unique()"
   ]
  },
  {
   "cell_type": "code",
   "execution_count": null,
   "id": "3421a12c-af06-4bf5-8d2b-374c1f098324",
   "metadata": {},
   "outputs": [],
   "source": [
    "# modellerin basarisini degerlendirmek icin\n",
    "from sklearn.metrics import accuracy_score\n",
    "from sklearn.metrics import confusion_matrix\n",
    "from sklearn.model_selection import train_test_split\n",
    "df[\"quality\"] = df[\"quality\"].map({'yuksek': 2, 'orta': 1, 'zayif': 0})\n",
    "y = df[\"quality\"]\n",
    "x = df.drop([\"quality\"], axis=1)\n",
    "X_train, X_test, y_train, y_test = train_test_split(x, y, test_size = 0.2, random_state = 42)\n",
    "df[\"quality\"].unique()"
   ]
  },
  {
   "cell_type": "code",
   "execution_count": null,
   "id": "f47419f9-005b-4d9e-8dec-05cf29db15e6",
   "metadata": {},
   "outputs": [],
   "source": []
  },
  {
   "cell_type": "code",
   "execution_count": null,
   "id": "a28029e5-98aa-4829-994a-7dcc0ae22332",
   "metadata": {},
   "outputs": [],
   "source": [
    "from sklearn.svm import SVC\n",
    "svc = SVC(kernel='rbf')\n",
    "svc.fit(X_train,y_train)\n",
    "y_pred_svc = svc.predict(X_test)\n",
    "cm_svc = confusion_matrix(y_test,y_pred_svc)\n",
    "svc_accuracy = accuracy_score(y_test, y_pred_svc)\n",
    "print(cm_svc, '\\n--------------------------\\n', 'Support Vector Classifier Accuracy Score: ', svc_accuracy)"
   ]
  },
  {
   "cell_type": "code",
   "execution_count": null,
   "id": "d50fb0b5-6c46-4e78-b143-b83fc75f8dcc",
   "metadata": {},
   "outputs": [],
   "source": []
  },
  {
   "cell_type": "code",
   "execution_count": null,
   "id": "8324677f-71de-413e-a57f-67cd51325355",
   "metadata": {},
   "outputs": [],
   "source": [
    "from sklearn.naive_bayes import GaussianNB\n",
    "gnb = GaussianNB()\n",
    "gnb.fit(X_train, y_train)\n",
    "y_pred_gnb = gnb.predict(X_test)\n",
    "cm_gnb = confusion_matrix(y_test,y_pred_gnb)\n",
    "gnb_accuracy = accuracy_score(y_test, y_pred_gnb)\n",
    "print(cm_gnb, '\\n--------------------------\\n', 'Naive Bayes Accuracy Score: ', gnb_accuracy)"
   ]
  },
  {
   "cell_type": "code",
   "execution_count": null,
   "id": "2761a6d5-0e04-4cf7-b7c3-f3f969524f4e",
   "metadata": {},
   "outputs": [],
   "source": []
  },
  {
   "cell_type": "code",
   "execution_count": null,
   "id": "aa636df4-faeb-49ed-93a6-dbcf9c6d79be",
   "metadata": {},
   "outputs": [],
   "source": [
    "from sklearn.neighbors import KNeighborsClassifier\n",
    "knn = KNeighborsClassifier(n_neighbors=1, metric='minkowski')\n",
    "knn.fit(X_train,y_train)\n",
    "y_pred_knn = knn.predict(X_test)\n",
    "cm_knn = confusion_matrix(y_test,y_pred_knn)\n",
    "knn_accuracy = accuracy_score(y_test, y_pred_knn)\n",
    "print(cm_knn, '\\n--------------------------\\n', 'KNN Accuracy Score: ', knn_accuracy)"
   ]
  },
  {
   "cell_type": "code",
   "execution_count": null,
   "id": "c3468d72-d06e-4827-9c1a-8bbbc2288a78",
   "metadata": {},
   "outputs": [],
   "source": []
  },
  {
   "cell_type": "code",
   "execution_count": null,
   "id": "02c25223-b504-4bb3-af3b-bc421e75f65e",
   "metadata": {},
   "outputs": [],
   "source": [
    "import xgboost as xgb\n",
    "xgb = xgb.XGBClassifier(objective='multiclass:softmax', num_class=3)\n",
    "xgb.fit(X_train,y_train)\n",
    "y_pred_xgb = xgb.predict(X_test)\n",
    "cm_xgb = confusion_matrix(y_test,y_pred_xgb)\n",
    "xgb_accuracy = accuracy_score(y_test, y_pred_xgb)\n",
    "print(cm_xgb, '\\n--------------------------\\n', 'XGB Accuracy Score: ', xgb_accuracy)"
   ]
  },
  {
   "cell_type": "code",
   "execution_count": null,
   "id": "0980f8e3-3d78-4f64-81f0-aa706f3ba9f6",
   "metadata": {},
   "outputs": [],
   "source": []
  },
  {
   "cell_type": "code",
   "execution_count": null,
   "id": "908987da-f0eb-4571-b71a-616bab6923ff",
   "metadata": {},
   "outputs": [],
   "source": [
    "from sklearn.ensemble import RandomForestClassifier\n",
    "rfc = RandomForestClassifier()\n",
    "rfc.fit(X_train,y_train)\n",
    "y_pred_rfc = rfc.predict(X_test)\n",
    "cm_rfc = confusion_matrix(y_test,y_pred_rfc)\n",
    "rfc_accuracy = accuracy_score(y_test, y_pred_rfc)\n",
    "print(cm_rfc, '\\n--------------------------\\n', 'Random Forest Accuracy Score: ', rfc_accuracy)"
   ]
  },
  {
   "cell_type": "code",
   "execution_count": null,
   "id": "bea0eb54-7bd0-4b5f-89fa-41b315c73274",
   "metadata": {},
   "outputs": [],
   "source": []
  },
  {
   "cell_type": "code",
   "execution_count": null,
   "id": "fc165556-7b9e-4742-928a-ebb932142e95",
   "metadata": {},
   "outputs": [],
   "source": [
    "from sklearn.tree import DecisionTreeClassifier\n",
    "dtc = DecisionTreeClassifier(criterion = 'entropy')\n",
    "dtc.fit(X_train,y_train)\n",
    "y_pred_dtc = dtc.predict(X_test)\n",
    "cm_dtc = confusion_matrix(y_test,y_pred_dtc)\n",
    "dtc_accuracy = accuracy_score(y_test, y_pred_dtc)\n",
    "print(cm_dtc, '\\n--------------------------\\n', 'Decision Tree Accuracy Score: ', dtc_accuracy)"
   ]
  },
  {
   "cell_type": "code",
   "execution_count": null,
   "id": "ea06d87e-6f30-4d07-82c1-d7bc7d25da82",
   "metadata": {},
   "outputs": [],
   "source": []
  },
  {
   "cell_type": "code",
   "execution_count": null,
   "id": "968e1360-6e85-444c-a89a-e09518dda4f0",
   "metadata": {},
   "outputs": [],
   "source": [
    "from sklearn.linear_model import LogisticRegression\n",
    "logr = LogisticRegression(random_state=0)\n",
    "logr.fit(X_train,y_train)\n",
    "y_pred_logr = logr.predict(X_test)\n",
    "cm_logr = confusion_matrix(y_test,y_pred_logr)\n",
    "logr_accuracy = accuracy_score(y_test, y_pred_logr)\n",
    "print(cm_logr, '\\n--------------------------\\n', 'Logistic Regression Accuracy Score: ', logr_accuracy)"
   ]
  },
  {
   "cell_type": "code",
   "execution_count": null,
   "id": "e76cd429-8b7e-4573-bb17-ef15132f60e8",
   "metadata": {},
   "outputs": [],
   "source": []
  },
  {
   "cell_type": "code",
   "execution_count": null,
   "id": "dd49b92b-be2f-4ef3-b7f3-34a820a8c3e6",
   "metadata": {},
   "outputs": [],
   "source": [
    "import lightgbm as lgb\n",
    "lgbm = lgb.LGBMClassifier(objective='multiclass', num_class=3)\n",
    "lgbm.fit(X_train, y_train)\n",
    "y_pred_lgbm = lgbm.predict(X_test)\n",
    "cm_lgbm = confusion_matrix(y_test, y_pred_lgbm)\n",
    "lgbm_accuracy = accuracy_score(y_test, y_pred_lgbm)\n",
    "print(cm_lgbm, '\\n--------------------------\\n', 'LightGBM Accuracy Score: ', lgbm_accuracy)"
   ]
  },
  {
   "cell_type": "code",
   "execution_count": null,
   "id": "47afe804-395b-4b04-88fb-c974ddf32132",
   "metadata": {},
   "outputs": [],
   "source": []
  }
 ],
 "metadata": {
  "kernelspec": {
   "display_name": "Python 3 (ipykernel)",
   "language": "python",
   "name": "python3"
  },
  "language_info": {
   "codemirror_mode": {
    "name": "ipython",
    "version": 3
   },
   "file_extension": ".py",
   "mimetype": "text/x-python",
   "name": "python",
   "nbconvert_exporter": "python",
   "pygments_lexer": "ipython3",
   "version": "3.9.16"
  }
 },
 "nbformat": 4,
 "nbformat_minor": 5
}
